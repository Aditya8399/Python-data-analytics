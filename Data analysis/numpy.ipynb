{
 "cells": [
  {
   "cell_type": "code",
   "execution_count": 173,
   "metadata": {},
   "outputs": [],
   "source": [
    "import numpy as np\n"
   ]
  },
  {
   "cell_type": "markdown",
   "metadata": {},
   "source": [
    "# numpy array properties\n"
   ]
  },
  {
   "cell_type": "code",
   "execution_count": 174,
   "metadata": {},
   "outputs": [
    {
     "name": "stdout",
     "output_type": "stream",
     "text": [
      "[ 0  1  2  3  4  5  6  7  8  9 10 11 12 13 14]\n",
      "[[ 0  1  2  3  4]\n",
      " [ 5  6  7  8  9]\n",
      " [10 11 12 13 14]]\n"
     ]
    }
   ],
   "source": [
    "# creating array with arange function of numpy\n",
    "a = np.arange(15)  # single dimensional\n",
    "print(a)\n",
    "a = np.arange(15).reshape(3,5)  # multi dimensional\n",
    "print(a)"
   ]
  },
  {
   "cell_type": "code",
   "execution_count": 175,
   "metadata": {},
   "outputs": [
    {
     "name": "stdout",
     "output_type": "stream",
     "text": [
      "[ 1  2  3 45  6]\n"
     ]
    }
   ],
   "source": [
    "x = np.array([1,2,3,45,6])\n",
    "print(x)\n",
    "  \n"
   ]
  },
  {
   "cell_type": "code",
   "execution_count": 176,
   "metadata": {},
   "outputs": [
    {
     "name": "stdout",
     "output_type": "stream",
     "text": [
      "[[1 2 3]\n",
      " [2 3 4]]\n"
     ]
    }
   ],
   "source": [
    "y = np.array([[1,2,3] , [2,3,4]])\n",
    "print(y)"
   ]
  },
  {
   "cell_type": "code",
   "execution_count": 177,
   "metadata": {},
   "outputs": [
    {
     "name": "stdout",
     "output_type": "stream",
     "text": [
      "shap: (5,)\n",
      "num of dimensions 1\n",
      "type of data int32\n",
      "Y\n",
      "shape: (2, 3)\n",
      "num of dimensions 2\n",
      "type of data int32\n"
     ]
    }
   ],
   "source": [
    "print('shap:' , x.shape)\n",
    "print('num of dimensions', x.ndim)\n",
    "print('type of data', x.dtype)\n",
    "print('Y')\n",
    "print('shape:', y.shape)\n",
    "print('num of dimensions', y.ndim)\n",
    "print('type of data', x.dtype)"
   ]
  },
  {
   "cell_type": "markdown",
   "metadata": {},
   "source": [
    " - arange\n",
    " - linspace\n",
    " - random.*\n",
    " - eye\n",
    " - ones\n",
    " - zeros"
   ]
  },
  {
   "cell_type": "code",
   "execution_count": 178,
   "metadata": {},
   "outputs": [],
   "source": [
    "np.set_printoptions(precision=4, suppress=True)"
   ]
  },
  {
   "cell_type": "code",
   "execution_count": 179,
   "metadata": {},
   "outputs": [
    {
     "name": "stdout",
     "output_type": "stream",
     "text": [
      "[-10.   -9.8  -9.6  -9.4  -9.2  -9.   -8.8  -8.6  -8.4  -8.2  -8.   -7.8\n",
      "  -7.6  -7.4  -7.2  -7.   -6.8  -6.6  -6.4  -6.2  -6.   -5.8  -5.6  -5.4\n",
      "  -5.2  -5.   -4.8  -4.6  -4.4  -4.2  -4.   -3.8  -3.6  -3.4  -3.2  -3.\n",
      "  -2.8  -2.6  -2.4  -2.2  -2.   -1.8  -1.6  -1.4  -1.2  -1.   -0.8  -0.6\n",
      "  -0.4  -0.2  -0.    0.2   0.4   0.6   0.8   1.    1.2   1.4   1.6   1.8\n",
      "   2.    2.2   2.4   2.6   2.8   3.    3.2   3.4   3.6   3.8   4.    4.2\n",
      "   4.4   4.6   4.8   5.    5.2   5.4   5.6   5.8   6.    6.2   6.4   6.6\n",
      "   6.8   7.    7.2   7.4   7.6   7.8   8.    8.2   8.4   8.6   8.8   9.\n",
      "   9.2   9.4   9.6   9.8]\n"
     ]
    }
   ],
   "source": [
    "a = np.arange(-10, 10, .2)\n",
    "print(a)"
   ]
  },
  {
   "cell_type": "code",
   "execution_count": 180,
   "metadata": {},
   "outputs": [
    {
     "name": "stdout",
     "output_type": "stream",
     "text": [
      "(100,)\n"
     ]
    }
   ],
   "source": [
    "a = np.arange(-10, 10, .2)\n",
    "print(a.shape)"
   ]
  },
  {
   "cell_type": "code",
   "execution_count": 181,
   "metadata": {},
   "outputs": [
    {
     "name": "stdout",
     "output_type": "stream",
     "text": [
      "[0.     0.0101 0.0202 0.0303 0.0404 0.0505 0.0606 0.0707 0.0808 0.0909\n",
      " 0.101  0.1111 0.1212 0.1313 0.1414 0.1515 0.1616 0.1717 0.1818 0.1919\n",
      " 0.202  0.2121 0.2222 0.2323 0.2424 0.2525 0.2626 0.2727 0.2828 0.2929\n",
      " 0.303  0.3131 0.3232 0.3333 0.3434 0.3535 0.3636 0.3737 0.3838 0.3939\n",
      " 0.404  0.4141 0.4242 0.4343 0.4444 0.4545 0.4646 0.4747 0.4848 0.4949\n",
      " 0.5051 0.5152 0.5253 0.5354 0.5455 0.5556 0.5657 0.5758 0.5859 0.596\n",
      " 0.6061 0.6162 0.6263 0.6364 0.6465 0.6566 0.6667 0.6768 0.6869 0.697\n",
      " 0.7071 0.7172 0.7273 0.7374 0.7475 0.7576 0.7677 0.7778 0.7879 0.798\n",
      " 0.8081 0.8182 0.8283 0.8384 0.8485 0.8586 0.8687 0.8788 0.8889 0.899\n",
      " 0.9091 0.9192 0.9293 0.9394 0.9495 0.9596 0.9697 0.9798 0.9899 1.    ]\n"
     ]
    }
   ],
   "source": [
    "b = np.linspace(0, 1, 100)\n",
    "print(b)"
   ]
  },
  {
   "cell_type": "code",
   "execution_count": 182,
   "metadata": {},
   "outputs": [
    {
     "data": {
      "text/plain": [
       "array([[0.8033, 0.9484, 0.8594],\n",
       "       [0.3324, 0.4386, 0.5996],\n",
       "       [0.1859, 0.5391, 0.5181]])"
      ]
     },
     "execution_count": 182,
     "metadata": {},
     "output_type": "execute_result"
    }
   ],
   "source": [
    "np.random.random((3,3)) # random values b/w zero to one"
   ]
  },
  {
   "cell_type": "code",
   "execution_count": 183,
   "metadata": {},
   "outputs": [
    {
     "data": {
      "text/plain": [
       "array([[380, 455, 233],\n",
       "       [850,  17, 829],\n",
       "       [648, 870, 841]])"
      ]
     },
     "execution_count": 183,
     "metadata": {},
     "output_type": "execute_result"
    }
   ],
   "source": [
    "np.random.randint(1, 1000, (3,3)) # random values b/w start and end"
   ]
  },
  {
   "cell_type": "code",
   "execution_count": 184,
   "metadata": {},
   "outputs": [
    {
     "data": {
      "text/plain": [
       "array([[1, 0, 0, 0, 0],\n",
       "       [0, 1, 0, 0, 0],\n",
       "       [0, 0, 1, 0, 0],\n",
       "       [0, 0, 0, 1, 0],\n",
       "       [0, 0, 0, 0, 1]])"
      ]
     },
     "execution_count": 184,
     "metadata": {},
     "output_type": "execute_result"
    }
   ],
   "source": [
    "np.eye (5, dtype=int) # identity matrix\n"
   ]
  },
  {
   "cell_type": "code",
   "execution_count": 185,
   "metadata": {},
   "outputs": [
    {
     "data": {
      "text/plain": [
       "array([[0, 0, 0, 0, 1],\n",
       "       [0, 0, 0, 1, 0],\n",
       "       [0, 0, 1, 0, 0],\n",
       "       [0, 1, 0, 0, 0],\n",
       "       [1, 0, 0, 0, 0]])"
      ]
     },
     "execution_count": 185,
     "metadata": {},
     "output_type": "execute_result"
    }
   ],
   "source": [
    "np.rot90(np.eye (5, dtype=int)) # identity matrix\n",
    "\n",
    "\n"
   ]
  },
  {
   "cell_type": "code",
   "execution_count": 186,
   "metadata": {},
   "outputs": [
    {
     "data": {
      "text/plain": [
       "array([[1, 1, 1, 1, 1],\n",
       "       [1, 1, 1, 1, 1],\n",
       "       [1, 1, 1, 1, 1],\n",
       "       [1, 1, 1, 1, 1],\n",
       "       [1, 1, 1, 1, 1]])"
      ]
     },
     "execution_count": 186,
     "metadata": {},
     "output_type": "execute_result"
    }
   ],
   "source": [
    "np.ones((5,5), dtype= int)"
   ]
  },
  {
   "cell_type": "code",
   "execution_count": 187,
   "metadata": {},
   "outputs": [
    {
     "data": {
      "text/plain": [
       "array([[0, 0, 0, 0, 0],\n",
       "       [0, 0, 0, 0, 0],\n",
       "       [0, 0, 0, 0, 0],\n",
       "       [0, 0, 0, 0, 0],\n",
       "       [0, 0, 0, 0, 0]])"
      ]
     },
     "execution_count": 187,
     "metadata": {},
     "output_type": "execute_result"
    }
   ],
   "source": [
    "np.zeros((5,5), dtype= int)"
   ]
  },
  {
   "cell_type": "markdown",
   "metadata": {},
   "source": [
    "# operations\n",
    "- arthimatic\n",
    "- statistical\n",
    "- trigonometric\n",
    "- logical\n",
    "- slicing\n",
    "- filtering\n",
    "- sorting\n"
   ]
  },
  {
   "cell_type": "code",
   "execution_count": 188,
   "metadata": {},
   "outputs": [
    {
     "name": "stdout",
     "output_type": "stream",
     "text": [
      "[[20  3 16]\n",
      " [20  4 13]]\n",
      "[[12  6]\n",
      " [ 7  4]\n",
      " [21 10]]\n"
     ]
    }
   ],
   "source": [
    "x = np.random.randint(1,25, (2,3))\n",
    "y = np.random.randint(1,25, (3,2))\n",
    "print(x)\n",
    "print(y)"
   ]
  },
  {
   "cell_type": "code",
   "execution_count": 189,
   "metadata": {},
   "outputs": [
    {
     "name": "stdout",
     "output_type": "stream",
     "text": [
      "y transposed\n",
      "[[32 10 37]\n",
      " [26  8 23]]\n",
      "x transposed + y\n",
      "[[32 26]\n",
      " [10  8]\n",
      " [37 23]]\n"
     ]
    }
   ],
   "source": [
    "print(\"y transposed\")\n",
    "print(x + y.T)\n",
    "print(\"x transposed + y\")\n",
    "print(x.T + y)"
   ]
  },
  {
   "cell_type": "code",
   "execution_count": 190,
   "metadata": {},
   "outputs": [
    {
     "name": "stdout",
     "output_type": "stream",
     "text": [
      " matrix multiplication elementwise\n",
      "[[240  21 336]\n",
      " [120  16 130]]\n",
      " matrix multiplication\n",
      "[[597 292]\n",
      " [541 266]]\n"
     ]
    }
   ],
   "source": [
    "print(\" matrix multiplication elementwise\")\n",
    "print(x * y.T)\n",
    "print(\" matrix multiplication\")\n",
    "print(x @ y)"
   ]
  },
  {
   "cell_type": "code",
   "execution_count": 191,
   "metadata": {},
   "outputs": [
    {
     "data": {
      "text/plain": [
       "array([[20,  3, 16, 20,  3, 16, 20,  3, 16, 20,  3, 16, 20,  3, 16],\n",
       "       [20,  4, 13, 20,  4, 13, 20,  4, 13, 20,  4, 13, 20,  4, 13]])"
      ]
     },
     "execution_count": 191,
     "metadata": {},
     "output_type": "execute_result"
    }
   ],
   "source": [
    "np.hstack((x,x,x,x,x))"
   ]
  },
  {
   "cell_type": "code",
   "execution_count": 192,
   "metadata": {},
   "outputs": [
    {
     "data": {
      "text/plain": [
       "array([[20,  3, 16],\n",
       "       [20,  4, 13],\n",
       "       [20,  3, 16],\n",
       "       [20,  4, 13],\n",
       "       [12,  7, 21],\n",
       "       [ 6,  4, 10]])"
      ]
     },
     "execution_count": 192,
     "metadata": {},
     "output_type": "execute_result"
    }
   ],
   "source": [
    "np.vstack((x,x,y.T))"
   ]
  },
  {
   "cell_type": "code",
   "execution_count": 193,
   "metadata": {},
   "outputs": [
    {
     "name": "stdout",
     "output_type": "stream",
     "text": [
      "sum of all elements: 76\n",
      "sum of all elements row wise: [39 37]\n",
      "sum of all elements col wise: [40  7 29]\n",
      "average of all elements: 12.666666666666666\n",
      "median of all elements: 14.5\n",
      "min of all elements: 3\n",
      "max of all elements: 20\n",
      "std of all elements: 6.920179830675565\n",
      "variance of all elements: 47.888888888888886\n",
      "any item in non - zero: True\n",
      "all item are non zero: True\n"
     ]
    }
   ],
   "source": [
    "print(\"sum of all elements:\" ,x.sum())\n",
    "print(\"sum of all elements row wise:\" ,x.sum(axis=1))\n",
    "print(\"sum of all elements col wise:\" ,x.sum(axis=0))\n",
    "print(\"average of all elements:\" ,x.mean())\n",
    "print(\"median of all elements:\" ,np.median(x))\n",
    "print(\"min of all elements:\", x.min())\n",
    "print(\"max of all elements:\", x.max())\n",
    "print(\"std of all elements:\", x.std())\n",
    "print(\"variance of all elements:\", x.var())\n",
    "print(\"any item in non - zero:\", x.any())\n",
    "print(\"all item are non zero:\",x.all())"
   ]
  },
  {
   "cell_type": "code",
   "execution_count": 194,
   "metadata": {},
   "outputs": [
    {
     "name": "stdout",
     "output_type": "stream",
     "text": [
      "3.141592653589793\n",
      "nan\n",
      "inf\n",
      "2.718281828459045\n"
     ]
    }
   ],
   "source": [
    "print(np.pi)\n",
    "print(np.nan)\n",
    "print(np.inf)\n",
    "print(np.e)"
   ]
  },
  {
   "cell_type": "code",
   "execution_count": 195,
   "metadata": {},
   "outputs": [
    {
     "name": "stdout",
     "output_type": "stream",
     "text": [
      "[[ 0.9129  0.1411 -0.2879]\n",
      " [ 0.9129 -0.7568  0.4202]]\n",
      "[[ 0.4081 -0.99   -0.9577]\n",
      " [ 0.4081 -0.6536  0.9074]]\n",
      "[[ 2.2372 -0.1425  0.3006]\n",
      " [ 2.2372  1.1578  0.463 ]]\n"
     ]
    }
   ],
   "source": [
    "print(np.sin(x))\n",
    "print(np.cos(x))\n",
    "print(np.tan(x))\n"
   ]
  },
  {
   "cell_type": "markdown",
   "metadata": {},
   "source": [
    " # boolean filter\n"
   ]
  },
  {
   "cell_type": "code",
   "execution_count": 196,
   "metadata": {},
   "outputs": [
    {
     "data": {
      "text/plain": [
       "array([20, 16, 20, 13])"
      ]
     },
     "execution_count": 196,
     "metadata": {},
     "output_type": "execute_result"
    }
   ],
   "source": [
    "x[x > 5]"
   ]
  },
  {
   "cell_type": "code",
   "execution_count": 197,
   "metadata": {},
   "outputs": [
    {
     "data": {
      "text/plain": [
       "array([[-1, -2,  0,  2, -3],\n",
       "       [-3,  1,  0, -3,  0],\n",
       "       [-2,  2,  2, -1, -3],\n",
       "       [-2, -3,  0,  1, -3],\n",
       "       [-3, -2, -2, -1,  2]])"
      ]
     },
     "execution_count": 197,
     "metadata": {},
     "output_type": "execute_result"
    }
   ],
   "source": [
    "x = np.random.randint(-3,3, (5,5))\n",
    "x\n"
   ]
  },
  {
   "cell_type": "code",
   "execution_count": 198,
   "metadata": {},
   "outputs": [
    {
     "data": {
      "text/plain": [
       "array([-1,  0,  1,  0,  0, -1,  0,  1, -1])"
      ]
     },
     "execution_count": 198,
     "metadata": {},
     "output_type": "execute_result"
    }
   ],
   "source": [
    "x[(x > -2) & (x < 2)]"
   ]
  },
  {
   "cell_type": "markdown",
   "metadata": {},
   "source": [
    "# indexing and slicing"
   ]
  },
  {
   "cell_type": "code",
   "execution_count": 199,
   "metadata": {},
   "outputs": [
    {
     "data": {
      "text/plain": [
       "-1"
      ]
     },
     "execution_count": 199,
     "metadata": {},
     "output_type": "execute_result"
    }
   ],
   "source": [
    "x[0, 0]"
   ]
  },
  {
   "cell_type": "code",
   "execution_count": 200,
   "metadata": {},
   "outputs": [
    {
     "data": {
      "text/plain": [
       "1"
      ]
     },
     "execution_count": 200,
     "metadata": {},
     "output_type": "execute_result"
    }
   ],
   "source": [
    "x[3,3]"
   ]
  },
  {
   "cell_type": "markdown",
   "metadata": {},
   "source": [
    "syntax for slicing in 1d: `[start:stop:step]`\n",
    "\n",
    "syntax for slicing in 2d: `[rstart:rstop:rstep, cstart:cstop:cstep]`"
   ]
  },
  {
   "cell_type": "code",
   "execution_count": 201,
   "metadata": {},
   "outputs": [
    {
     "name": "stdout",
     "output_type": "stream",
     "text": [
      "[-1 -2  0]\n",
      "[ 2  2 -1 -3]\n"
     ]
    }
   ],
   "source": [
    "x[0] # first row\n",
    "x[-1] # last row\n",
    "print(x[0,:3]) # first row first three elements\n",
    "print(x[2, -4:]) # 2 index row last four elements\n"
   ]
  },
  {
   "cell_type": "code",
   "execution_count": 202,
   "metadata": {},
   "outputs": [
    {
     "name": "stdout",
     "output_type": "stream",
     "text": [
      "[-1 -3 -2 -2 -3]\n",
      "[-3  0 -3 -3  2]\n",
      "[[-1 -2]\n",
      " [-3  1]\n",
      " [-2  2]\n",
      " [-2 -3]\n",
      " [-3 -2]]\n",
      "[[-2  2]\n",
      " [ 1 -3]\n",
      " [ 2 -1]\n",
      " [-3  1]\n",
      " [-2 -1]]\n",
      "[[ 0 -3 -2  2]\n",
      " [ 0  0  1 -3]\n",
      " [ 2 -3  2 -1]\n",
      " [ 0 -3 -3  1]\n",
      " [-2  2 -2 -1]]\n"
     ]
    }
   ],
   "source": [
    "print(x[ :, 0]) # first column\n",
    "print(x[:, -1 ]) # last column\n",
    "print(x[:,:2]) # first two columns\n",
    "print(x[:,[1,3]]) # first index and third index column\n",
    "print(x[:, [2,4,1,3]]) # 2,4,1,3 index columns"
   ]
  },
  {
   "cell_type": "markdown",
   "metadata": {},
   "source": [
    "# sorting"
   ]
  },
  {
   "cell_type": "code",
   "execution_count": 203,
   "metadata": {},
   "outputs": [
    {
     "data": {
      "text/plain": [
       "array([[ 5,  2, 87],\n",
       "       [40, 76, 40],\n",
       "       [18, 80, 34],\n",
       "       [17, 10, 77],\n",
       "       [41, 95, 86],\n",
       "       [60, 48, 39]])"
      ]
     },
     "execution_count": 203,
     "metadata": {},
     "output_type": "execute_result"
    }
   ],
   "source": [
    "x = np.random.randint(1,100, (6,3))\n",
    "x"
   ]
  },
  {
   "cell_type": "code",
   "execution_count": 204,
   "metadata": {},
   "outputs": [
    {
     "data": {
      "text/plain": [
       "array([[ 2,  5, 87],\n",
       "       [40, 40, 76],\n",
       "       [18, 34, 80],\n",
       "       [10, 17, 77],\n",
       "       [41, 86, 95],\n",
       "       [39, 48, 60]])"
      ]
     },
     "execution_count": 204,
     "metadata": {},
     "output_type": "execute_result"
    }
   ],
   "source": [
    "x.sort(axis=1)\n",
    "x"
   ]
  },
  {
   "cell_type": "code",
   "execution_count": 205,
   "metadata": {},
   "outputs": [],
   "source": [
    "x = x.flatten()\n",
    "x.sort()"
   ]
  },
  {
   "cell_type": "code",
   "execution_count": 206,
   "metadata": {},
   "outputs": [
    {
     "data": {
      "text/plain": [
       "array([ 2,  5, 10, 17, 18, 34, 39, 40, 40, 41, 48, 60, 76, 77, 80, 86, 87,\n",
       "       95])"
      ]
     },
     "execution_count": 206,
     "metadata": {},
     "output_type": "execute_result"
    }
   ],
   "source": [
    "x"
   ]
  },
  {
   "cell_type": "code",
   "execution_count": 207,
   "metadata": {},
   "outputs": [
    {
     "data": {
      "text/plain": [
       "95"
      ]
     },
     "execution_count": 207,
     "metadata": {},
     "output_type": "execute_result"
    }
   ],
   "source": [
    "x.max()"
   ]
  },
  {
   "cell_type": "code",
   "execution_count": 208,
   "metadata": {},
   "outputs": [
    {
     "data": {
      "text/plain": [
       "17"
      ]
     },
     "execution_count": 208,
     "metadata": {},
     "output_type": "execute_result"
    }
   ],
   "source": [
    "x.argmax() # returns index of max element"
   ]
  },
  {
   "cell_type": "code",
   "execution_count": 209,
   "metadata": {},
   "outputs": [
    {
     "data": {
      "text/plain": [
       "0"
      ]
     },
     "execution_count": 209,
     "metadata": {},
     "output_type": "execute_result"
    }
   ],
   "source": [
    "x.argmin() # returns index of min element"
   ]
  },
  {
   "cell_type": "code",
   "execution_count": null,
   "metadata": {},
   "outputs": [],
   "source": []
  }
 ],
 "metadata": {
  "kernelspec": {
   "display_name": "Python 3",
   "language": "python",
   "name": "python3"
  },
  "language_info": {
   "codemirror_mode": {
    "name": "ipython",
    "version": 3
   },
   "file_extension": ".py",
   "mimetype": "text/x-python",
   "name": "python",
   "nbconvert_exporter": "python",
   "pygments_lexer": "ipython3",
   "version": "3.11.5"
  }
 },
 "nbformat": 4,
 "nbformat_minor": 2
}
