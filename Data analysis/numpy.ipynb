{
 "cells": [
  {
   "cell_type": "code",
   "execution_count": 3,
   "metadata": {},
   "outputs": [],
   "source": [
    "import numpy as np\n"
   ]
  },
  {
   "cell_type": "markdown",
   "metadata": {},
   "source": [
    "# numpy array properties\n"
   ]
  },
  {
   "cell_type": "code",
   "execution_count": 4,
   "metadata": {},
   "outputs": [
    {
     "name": "stdout",
     "output_type": "stream",
     "text": [
      "[ 0  1  2  3  4  5  6  7  8  9 10 11 12 13 14]\n",
      "[[ 0  1  2  3  4]\n",
      " [ 5  6  7  8  9]\n",
      " [10 11 12 13 14]]\n"
     ]
    }
   ],
   "source": [
    "# creating array with arange function of numpy\n",
    "a = np.arange(15)  # single dimensional\n",
    "print(a)\n",
    "a = np.arange(15).reshape(3,5)  # multi dimensional\n",
    "print(a)"
   ]
  },
  {
   "cell_type": "code",
   "execution_count": 5,
   "metadata": {},
   "outputs": [
    {
     "name": "stdout",
     "output_type": "stream",
     "text": [
      "[ 1  2  3 45  6]\n"
     ]
    }
   ],
   "source": [
    "x = np.array([1,2,3,45,6])\n",
    "print(x)\n",
    "  \n"
   ]
  },
  {
   "cell_type": "code",
   "execution_count": 6,
   "metadata": {},
   "outputs": [
    {
     "name": "stdout",
     "output_type": "stream",
     "text": [
      "[[1 2 3]\n",
      " [2 3 4]]\n"
     ]
    }
   ],
   "source": [
    "y = np.array([[1,2,3] , [2,3,4]])\n",
    "print(y)"
   ]
  },
  {
   "cell_type": "code",
   "execution_count": 7,
   "metadata": {},
   "outputs": [
    {
     "name": "stdout",
     "output_type": "stream",
     "text": [
      "shap: (5,)\n",
      "num of dimensions 1\n",
      "type of data int32\n",
      "Y\n",
      "shape: (2, 3)\n",
      "num of dimensions 2\n",
      "type of data int32\n"
     ]
    }
   ],
   "source": [
    "print('shap:' , x.shape)\n",
    "print('num of dimensions', x.ndim)\n",
    "print('type of data', x.dtype)\n",
    "print('Y')\n",
    "print('shape:', y.shape)\n",
    "print('num of dimensions', y.ndim)\n",
    "print('type of data', x.dtype)"
   ]
  },
  {
   "cell_type": "markdown",
   "metadata": {},
   "source": [
    " - arange\n",
    " - linspace\n",
    " - random.*\n",
    " - eye\n",
    " - ones\n",
    " - zeros"
   ]
  },
  {
   "cell_type": "code",
   "execution_count": 8,
   "metadata": {},
   "outputs": [],
   "source": [
    "np.set_printoptions(precision=4, suppress=True)"
   ]
  },
  {
   "cell_type": "code",
   "execution_count": 9,
   "metadata": {},
   "outputs": [
    {
     "name": "stdout",
     "output_type": "stream",
     "text": [
      "[-10.   -9.8  -9.6  -9.4  -9.2  -9.   -8.8  -8.6  -8.4  -8.2  -8.   -7.8\n",
      "  -7.6  -7.4  -7.2  -7.   -6.8  -6.6  -6.4  -6.2  -6.   -5.8  -5.6  -5.4\n",
      "  -5.2  -5.   -4.8  -4.6  -4.4  -4.2  -4.   -3.8  -3.6  -3.4  -3.2  -3.\n",
      "  -2.8  -2.6  -2.4  -2.2  -2.   -1.8  -1.6  -1.4  -1.2  -1.   -0.8  -0.6\n",
      "  -0.4  -0.2  -0.    0.2   0.4   0.6   0.8   1.    1.2   1.4   1.6   1.8\n",
      "   2.    2.2   2.4   2.6   2.8   3.    3.2   3.4   3.6   3.8   4.    4.2\n",
      "   4.4   4.6   4.8   5.    5.2   5.4   5.6   5.8   6.    6.2   6.4   6.6\n",
      "   6.8   7.    7.2   7.4   7.6   7.8   8.    8.2   8.4   8.6   8.8   9.\n",
      "   9.2   9.4   9.6   9.8]\n"
     ]
    }
   ],
   "source": [
    "a = np.arange(-10, 10, .2)\n",
    "print(a)"
   ]
  },
  {
   "cell_type": "code",
   "execution_count": 10,
   "metadata": {},
   "outputs": [
    {
     "name": "stdout",
     "output_type": "stream",
     "text": [
      "(100,)\n"
     ]
    }
   ],
   "source": [
    "a = np.arange(-10, 10, .2)\n",
    "print(a.shape)"
   ]
  },
  {
   "cell_type": "code",
   "execution_count": 11,
   "metadata": {},
   "outputs": [
    {
     "name": "stdout",
     "output_type": "stream",
     "text": [
      "[0.     0.0101 0.0202 0.0303 0.0404 0.0505 0.0606 0.0707 0.0808 0.0909\n",
      " 0.101  0.1111 0.1212 0.1313 0.1414 0.1515 0.1616 0.1717 0.1818 0.1919\n",
      " 0.202  0.2121 0.2222 0.2323 0.2424 0.2525 0.2626 0.2727 0.2828 0.2929\n",
      " 0.303  0.3131 0.3232 0.3333 0.3434 0.3535 0.3636 0.3737 0.3838 0.3939\n",
      " 0.404  0.4141 0.4242 0.4343 0.4444 0.4545 0.4646 0.4747 0.4848 0.4949\n",
      " 0.5051 0.5152 0.5253 0.5354 0.5455 0.5556 0.5657 0.5758 0.5859 0.596\n",
      " 0.6061 0.6162 0.6263 0.6364 0.6465 0.6566 0.6667 0.6768 0.6869 0.697\n",
      " 0.7071 0.7172 0.7273 0.7374 0.7475 0.7576 0.7677 0.7778 0.7879 0.798\n",
      " 0.8081 0.8182 0.8283 0.8384 0.8485 0.8586 0.8687 0.8788 0.8889 0.899\n",
      " 0.9091 0.9192 0.9293 0.9394 0.9495 0.9596 0.9697 0.9798 0.9899 1.    ]\n"
     ]
    }
   ],
   "source": [
    "b = np.linspace(0, 1, 100)\n",
    "print(b)"
   ]
  },
  {
   "cell_type": "code",
   "execution_count": 12,
   "metadata": {},
   "outputs": [
    {
     "data": {
      "text/plain": [
       "array([[0.3967, 0.2979, 0.083 ],\n",
       "       [0.4546, 0.846 , 0.6066],\n",
       "       [0.8895, 0.6615, 0.8648]])"
      ]
     },
     "execution_count": 12,
     "metadata": {},
     "output_type": "execute_result"
    }
   ],
   "source": [
    "np.random.random((3,3)) # random values b/w zero to one"
   ]
  },
  {
   "cell_type": "code",
   "execution_count": 13,
   "metadata": {},
   "outputs": [
    {
     "data": {
      "text/plain": [
       "array([[384, 985, 301],\n",
       "       [471, 619, 456],\n",
       "       [361, 754, 261]])"
      ]
     },
     "execution_count": 13,
     "metadata": {},
     "output_type": "execute_result"
    }
   ],
   "source": [
    "np.random.randint(1, 1000, (3,3)) # random values b/w start and end"
   ]
  },
  {
   "cell_type": "code",
   "execution_count": 14,
   "metadata": {},
   "outputs": [
    {
     "data": {
      "text/plain": [
       "array([[1, 0, 0, 0, 0],\n",
       "       [0, 1, 0, 0, 0],\n",
       "       [0, 0, 1, 0, 0],\n",
       "       [0, 0, 0, 1, 0],\n",
       "       [0, 0, 0, 0, 1]])"
      ]
     },
     "execution_count": 14,
     "metadata": {},
     "output_type": "execute_result"
    }
   ],
   "source": [
    "np.eye (5, dtype=int) # identity matrix\n"
   ]
  },
  {
   "cell_type": "code",
   "execution_count": 15,
   "metadata": {},
   "outputs": [
    {
     "data": {
      "text/plain": [
       "array([[0, 0, 0, 0, 1],\n",
       "       [0, 0, 0, 1, 0],\n",
       "       [0, 0, 1, 0, 0],\n",
       "       [0, 1, 0, 0, 0],\n",
       "       [1, 0, 0, 0, 0]])"
      ]
     },
     "execution_count": 15,
     "metadata": {},
     "output_type": "execute_result"
    }
   ],
   "source": [
    "np.rot90(np.eye (5, dtype=int)) # identity matrix\n",
    "\n",
    "\n"
   ]
  },
  {
   "cell_type": "code",
   "execution_count": 16,
   "metadata": {},
   "outputs": [
    {
     "data": {
      "text/plain": [
       "array([[1, 1, 1, 1, 1],\n",
       "       [1, 1, 1, 1, 1],\n",
       "       [1, 1, 1, 1, 1],\n",
       "       [1, 1, 1, 1, 1],\n",
       "       [1, 1, 1, 1, 1]])"
      ]
     },
     "execution_count": 16,
     "metadata": {},
     "output_type": "execute_result"
    }
   ],
   "source": [
    "np.ones((5,5), dtype= int)"
   ]
  },
  {
   "cell_type": "code",
   "execution_count": 17,
   "metadata": {},
   "outputs": [
    {
     "data": {
      "text/plain": [
       "array([[0, 0, 0, 0, 0],\n",
       "       [0, 0, 0, 0, 0],\n",
       "       [0, 0, 0, 0, 0],\n",
       "       [0, 0, 0, 0, 0],\n",
       "       [0, 0, 0, 0, 0]])"
      ]
     },
     "execution_count": 17,
     "metadata": {},
     "output_type": "execute_result"
    }
   ],
   "source": [
    "np.zeros((5,5), dtype= int)"
   ]
  },
  {
   "cell_type": "markdown",
   "metadata": {},
   "source": [
    "# operations\n",
    "- arthimatic\n",
    "- statistical\n",
    "- trigonometric\n",
    "- logical\n",
    "- slicing\n",
    "- filtering\n",
    "- sorting\n"
   ]
  },
  {
   "cell_type": "code",
   "execution_count": 18,
   "metadata": {},
   "outputs": [
    {
     "name": "stdout",
     "output_type": "stream",
     "text": [
      "[[ 5 21 24]\n",
      " [ 6 11 16]]\n",
      "[[23  5]\n",
      " [20 15]\n",
      " [ 1  7]]\n"
     ]
    }
   ],
   "source": [
    "x = np.random.randint(1,25, (2,3))\n",
    "y = np.random.randint(1,25, (3,2))\n",
    "print(x)\n",
    "print(y)"
   ]
  },
  {
   "cell_type": "code",
   "execution_count": 19,
   "metadata": {},
   "outputs": [
    {
     "name": "stdout",
     "output_type": "stream",
     "text": [
      "y transposed\n",
      "[[28 41 25]\n",
      " [11 26 23]]\n",
      "x transposed + y\n",
      "[[28 11]\n",
      " [41 26]\n",
      " [25 23]]\n"
     ]
    }
   ],
   "source": [
    "print(\"y transposed\")\n",
    "print(x + y.T)\n",
    "print(\"x transposed + y\")\n",
    "print(x.T + y)"
   ]
  },
  {
   "cell_type": "code",
   "execution_count": 20,
   "metadata": {},
   "outputs": [
    {
     "name": "stdout",
     "output_type": "stream",
     "text": [
      " matrix multiplication elementwise\n",
      "[[115 420  24]\n",
      " [ 30 165 112]]\n",
      " matrix multiplication\n",
      "[[559 508]\n",
      " [374 307]]\n"
     ]
    }
   ],
   "source": [
    "print(\" matrix multiplication elementwise\")\n",
    "print(x * y.T)\n",
    "print(\" matrix multiplication\")\n",
    "print(x @ y)"
   ]
  },
  {
   "cell_type": "code",
   "execution_count": 21,
   "metadata": {},
   "outputs": [
    {
     "data": {
      "text/plain": [
       "array([[ 5, 21, 24,  5, 21, 24,  5, 21, 24,  5, 21, 24,  5, 21, 24],\n",
       "       [ 6, 11, 16,  6, 11, 16,  6, 11, 16,  6, 11, 16,  6, 11, 16]])"
      ]
     },
     "execution_count": 21,
     "metadata": {},
     "output_type": "execute_result"
    }
   ],
   "source": [
    "np.hstack((x,x,x,x,x))"
   ]
  },
  {
   "cell_type": "code",
   "execution_count": 26,
   "metadata": {},
   "outputs": [
    {
     "data": {
      "text/plain": [
       "array([[ 5, 21, 24],\n",
       "       [ 6, 11, 16],\n",
       "       [ 5, 21, 24],\n",
       "       [ 6, 11, 16],\n",
       "       [23, 20,  1],\n",
       "       [ 5, 15,  7]])"
      ]
     },
     "execution_count": 26,
     "metadata": {},
     "output_type": "execute_result"
    }
   ],
   "source": [
    "np.vstack((x,x,y.T))"
   ]
  },
  {
   "cell_type": "code",
   "execution_count": 30,
   "metadata": {},
   "outputs": [
    {
     "name": "stdout",
     "output_type": "stream",
     "text": [
      "sum of all elements: 83\n",
      "sum of all elements row wise: [50 33]\n",
      "sum of all elements col wise: [11 32 40]\n",
      "average of all elements: 13.833333333333334\n",
      "median of all elements: 13.5\n",
      "min of all elements: 5\n",
      "max of all elements: 24\n",
      "std of all elements: 7.151145984308312\n",
      "variance of all elements: 51.13888888888889\n",
      "any item in non - zero: True\n",
      "all item are non zero: True\n"
     ]
    }
   ],
   "source": [
    "print(\"sum of all elements:\" ,x.sum())\n",
    "print(\"sum of all elements row wise:\" ,x.sum(axis=1))\n",
    "print(\"sum of all elements col wise:\" ,x.sum(axis=0))\n",
    "print(\"average of all elements:\" ,x.mean())\n",
    "print(\"median of all elements:\" ,np.median(x))\n",
    "print(\"min of all elements:\", x.min())\n",
    "print(\"max of all elements:\", x.max())\n",
    "print(\"std of all elements:\", x.std())\n",
    "print(\"variance of all elements:\", x.var())\n",
    "print(\"any item in non - zero:\", x.any())\n",
    "print(\"all item are non zero:\",x.all())"
   ]
  },
  {
   "cell_type": "code",
   "execution_count": 27,
   "metadata": {},
   "outputs": [
    {
     "name": "stdout",
     "output_type": "stream",
     "text": [
      "3.141592653589793\n",
      "nan\n",
      "inf\n",
      "2.718281828459045\n"
     ]
    }
   ],
   "source": [
    "print(np.pi)\n",
    "print(np.nan)\n",
    "print(np.inf)\n",
    "print(np.e)"
   ]
  },
  {
   "cell_type": "code",
   "execution_count": 28,
   "metadata": {},
   "outputs": [
    {
     "name": "stdout",
     "output_type": "stream",
     "text": [
      "[[-0.9589  0.8367 -0.9056]\n",
      " [-0.2794 -1.     -0.2879]]\n",
      "[[ 0.2837 -0.5477  0.4242]\n",
      " [ 0.9602  0.0044 -0.9577]]\n",
      "[[  -3.3805   -1.5275   -2.1349]\n",
      " [  -0.291  -225.9508    0.3006]]\n"
     ]
    }
   ],
   "source": [
    "print(np.sin(x))\n",
    "print(np.cos(x))\n",
    "print(np.tan(x))\n"
   ]
  },
  {
   "cell_type": "code",
   "execution_count": null,
   "metadata": {},
   "outputs": [],
   "source": []
  }
 ],
 "metadata": {
  "kernelspec": {
   "display_name": "Python 3",
   "language": "python",
   "name": "python3"
  },
  "language_info": {
   "codemirror_mode": {
    "name": "ipython",
    "version": 3
   },
   "file_extension": ".py",
   "mimetype": "text/x-python",
   "name": "python",
   "nbconvert_exporter": "python",
   "pygments_lexer": "ipython3",
   "version": "3.11.5"
  }
 },
 "nbformat": 4,
 "nbformat_minor": 2
}
