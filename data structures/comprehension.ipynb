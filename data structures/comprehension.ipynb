{
 "cells": [
  {
   "cell_type": "markdown",
   "metadata": {},
   "source": [
    "# comprehension in python\n",
    "**single line code for generation an iterable fron an existing iterable**\n",
    "- list comprehension\n",
    "- set comprehension\n",
    "- dictionary comprehension"
   ]
  },
  {
   "cell_type": "markdown",
   "metadata": {},
   "source": [
    "syntax 1:\n",
    "```\n",
    "new_it = [operation for item in existing_it]\n",
    "```\n",
    "Syntax 2:\n",
    "```python\n",
    "new_it = [operation for item in existing_it if condition]\n",
    "```"
   ]
  },
  {
   "cell_type": "code",
   "execution_count": 30,
   "metadata": {},
   "outputs": [
    {
     "name": "stdout",
     "output_type": "stream",
     "text": [
      "[1, 2, 3, 4]\n",
      "[1, 4, 9, 16]\n"
     ]
    }
   ],
   "source": [
    "a= [1,2,3,4]\n",
    "a2= []\n",
    "for i in a:\n",
    "    s=i**2\n",
    "    a2.append(s)\n",
    "print(a)\n",
    "print(a2)"
   ]
  },
  {
   "cell_type": "code",
   "execution_count": 31,
   "metadata": {},
   "outputs": [
    {
     "name": "stdout",
     "output_type": "stream",
     "text": [
      "[1, 2, 3, 4]\n",
      "[1, 8, 27, 64]\n"
     ]
    }
   ],
   "source": [
    "a= [1,2,3,4]\n",
    "a2= []\n",
    "for i in a:\n",
    "    s=i**3\n",
    "    a2.append(s)\n",
    "print(a)\n",
    "print(a2)"
   ]
  },
  {
   "cell_type": "code",
   "execution_count": 32,
   "metadata": {},
   "outputs": [
    {
     "name": "stdout",
     "output_type": "stream",
     "text": [
      "[1, 2, 3, 4]\n",
      "[-1, 0, 1, 2]\n"
     ]
    }
   ],
   "source": [
    "a= [1,2,3,4]\n",
    "a2= []\n",
    "for i in a:\n",
    "    s=i-2\n",
    "    a2.append(s)\n",
    "print(a)\n",
    "print(a2)"
   ]
  },
  {
   "cell_type": "code",
   "execution_count": 33,
   "metadata": {},
   "outputs": [
    {
     "data": {
      "text/plain": [
       "[1, 4, 9, 16]"
      ]
     },
     "execution_count": 33,
     "metadata": {},
     "output_type": "execute_result"
    }
   ],
   "source": [
    "a2 = [i**2 for i in a]\n",
    "a2"
   ]
  },
  {
   "cell_type": "code",
   "execution_count": 34,
   "metadata": {},
   "outputs": [
    {
     "name": "stdout",
     "output_type": "stream",
     "text": [
      "['alex', 'susan', 'tom', 'jerry']\n",
      "['al', 'su', 'to', 'je']\n"
     ]
    }
   ],
   "source": [
    "names = ['alex','susan','tom','jerry']\n",
    "shorts = []\n",
    "for name in names:\n",
    "    shorts.append(name[:2])\n",
    "print(names)\n",
    "print(shorts)"
   ]
  },
  {
   "cell_type": "code",
   "execution_count": 36,
   "metadata": {},
   "outputs": [
    {
     "name": "stdout",
     "output_type": "stream",
     "text": [
      "['al', 'su', 'to', 'je']\n"
     ]
    }
   ],
   "source": [
    "something= [name[:2] for name in names]\n",
    "print(something)"
   ]
  },
  {
   "cell_type": "code",
   "execution_count": null,
   "metadata": {},
   "outputs": [],
   "source": [
    "numbers = [12,4,1,4,5,2,5,6]\n"
   ]
  },
  {
   "cell_type": "code",
   "execution_count": 41,
   "metadata": {},
   "outputs": [
    {
     "name": "stdout",
     "output_type": "stream",
     "text": [
      "[12, 4, 1, 4, 5, 2, 5, 6]\n",
      "[2, -6, -6, -8, -4]\n"
     ]
    }
   ],
   "source": [
    "numbers = [12,4,1,4,5,2,5,6]\n",
    "evens = [n-10 for n in numbers if n%2 ==0]\n",
    "print(numbers)\n",
    "print(evens)"
   ]
  },
  {
   "cell_type": "code",
   "execution_count": 42,
   "metadata": {},
   "outputs": [
    {
     "name": "stdout",
     "output_type": "stream",
     "text": [
      "['raman', 'sita', 'gita', 'hari', 'rahul', 'sohan']\n",
      "['sita', 'gita', 'hari']\n"
     ]
    }
   ],
   "source": [
    "guests = ['raman','sita','gita','hari','rahul','sohan']\n",
    "guests_i = [name for name in guests if 'i' in name.lower()]\n",
    "print(guests)\n",
    "print(guests_i)"
   ]
  },
  {
   "cell_type": "code",
   "execution_count": 44,
   "metadata": {},
   "outputs": [
    {
     "name": "stdout",
     "output_type": "stream",
     "text": [
      "{1, 2, 3, 4, 5, 6}\n",
      "{1, 4, 36, 9, 16, 25}\n"
     ]
    }
   ],
   "source": [
    "x={1,2,3,4,5,6,1,1,1}\n",
    "x2={i**2 for i in x}\n",
    "print(x)\n",
    "print(x2)"
   ]
  },
  {
   "cell_type": "markdown",
   "metadata": {},
   "source": [
    "# Set comprehension\n"
   ]
  },
  {
   "cell_type": "code",
   "execution_count": 45,
   "metadata": {},
   "outputs": [
    {
     "name": "stdout",
     "output_type": "stream",
     "text": [
      "{1, 2, 3, 4, 5, 6}\n",
      "{0, 1, -1, -4, -3, -2}\n"
     ]
    }
   ],
   "source": [
    "x={1,2,3,4,5,6,1,1,1}\n",
    "x2={i-5 for i in x}\n",
    "print(x)\n",
    "print(x2)"
   ]
  },
  {
   "cell_type": "code",
   "execution_count": 48,
   "metadata": {},
   "outputs": [
    {
     "name": "stdout",
     "output_type": "stream",
     "text": [
      "{'a': 'APPLE', 'b': 'BANANA', 'c': 'CHERRY'}\n"
     ]
    }
   ],
   "source": [
    "# dictionary comprehension\n",
    "x={'a':'apple','b':'banana', 'c':'cherry'}\n",
    "x2={k:v.upper()for k,v in x.items()}\n",
    "print(x2)"
   ]
  },
  {
   "cell_type": "code",
   "execution_count": 50,
   "metadata": {},
   "outputs": [
    {
     "name": "stdout",
     "output_type": "stream",
     "text": [
      "[13, 2, 1, 2, 5, 6, 5, 2, 2]\n",
      "{0: 13, 1: 2, 2: 1, 3: 2, 4: 5, 5: 6, 6: 5, 7: 2, 8: 2}\n"
     ]
    }
   ],
   "source": [
    "# list to dict\n",
    "x = [13,2,1,2,5,6,5,2,2]\n",
    "\n",
    "\n",
    "xd= {i:v for i,v in enumerate(x)}\n",
    "print(x)\n",
    "print(xd)\n"
   ]
  },
  {
   "cell_type": "code",
   "execution_count": 54,
   "metadata": {},
   "outputs": [
    {
     "name": "stdout",
     "output_type": "stream",
     "text": [
      "[13, 2, 1, 2, 5, 6, 5, 2, 2]\n",
      "{'a': 13, 'b': 2, 'c': 1, 'd': 2, 'e': 5}\n"
     ]
    }
   ],
   "source": [
    "# list to dict\n",
    "x = [13,2,1,2,5,6,5,2,2]\n",
    "y = ['a','b','c','d','e']\n",
    "\n",
    "xd= {i1:i2 for i1,i2 in zip(y,x)}\n",
    "print(x)\n",
    "print(xd)\n"
   ]
  },
  {
   "cell_type": "code",
   "execution_count": 56,
   "metadata": {},
   "outputs": [
    {
     "data": {
      "text/plain": [
       "[1, 4, 9]"
      ]
     },
     "execution_count": 56,
     "metadata": {},
     "output_type": "execute_result"
    }
   ],
   "source": [
    "x= (1,2,3)\n",
    "x2= (i**2 for i in x)\n",
    "list(x2)"
   ]
  },
  {
   "cell_type": "code",
   "execution_count": 57,
   "metadata": {},
   "outputs": [
    {
     "data": {
      "text/plain": [
       "[1, 3, 5, 7, 9, 11, 13, 15, 17, 19]"
      ]
     },
     "execution_count": 57,
     "metadata": {},
     "output_type": "execute_result"
    }
   ],
   "source": [
    "list(range(1,20,2))"
   ]
  },
  {
   "cell_type": "code",
   "execution_count": null,
   "metadata": {},
   "outputs": [],
   "source": []
  }
 ],
 "metadata": {
  "kernelspec": {
   "display_name": "Python 3",
   "language": "python",
   "name": "python3"
  },
  "language_info": {
   "codemirror_mode": {
    "name": "ipython",
    "version": 3
   },
   "file_extension": ".py",
   "mimetype": "text/x-python",
   "name": "python",
   "nbconvert_exporter": "python",
   "pygments_lexer": "ipython3",
   "version": "3.11.5"
  }
 },
 "nbformat": 4,
 "nbformat_minor": 2
}
