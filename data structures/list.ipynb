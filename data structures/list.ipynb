{
 "cells": [
  {
   "cell_type": "markdown",
   "metadata": {},
   "source": [
    "# list  \n",
    "- ordered\n",
    "- indexed\n",
    "- mutable\n",
    "- duplicate values\n",
    "- values only\n",
    "- []\n",
    "\n",
    "# tuple \n",
    "- ordered\n",
    "- indexed\n",
    "- immutable\n",
    "- duplicate values\n",
    "- values only\n",
    "- ()\n",
    "\n",
    "# set\n",
    "- unordered\n",
    "- unindexed\n",
    "- mutable\n",
    "- unique values\n",
    "- values only\n",
    "- {}\n",
    "\n",
    "# dictionaries\n",
    "- ordered\n",
    "- unindexed\n",
    "- mutable\n",
    "- unique keys,duplicate values\n",
    "- Key value pair\n",
    "- {}\n",
    "\n"
   ]
  },
  {
   "cell_type": "markdown",
   "metadata": {},
   "source": [
    "# List\n",
    "- Create\n",
    "- Indexing and Slicing\n",
    "- traversing\n",
    "- manipulate"
   ]
  },
  {
   "cell_type": "code",
   "execution_count": 2,
   "metadata": {},
   "outputs": [
    {
     "name": "stdout",
     "output_type": "stream",
     "text": [
      "[1, 2, 3]\n",
      "['alpha', 'beta', 'gamma']\n",
      "['arun', 100, 'varun', 150, 'tarun', 200]\n",
      "[[1, 2, 3], [2, 3, 4, 5]]\n",
      "[1, 2, 3]\n",
      "[[1, 2, 3], [1, 2, 3], [1, 2, 3], [1, 2, 3]]\n",
      "[2, 2, 2, 2, 2, 2, 2, 2, 2, 2]\n"
     ]
    }
   ],
   "source": [
    "b=[1,2,3]\n",
    "c=['alpha','beta','gamma']\n",
    "d=['arun',100,'varun',150,'tarun',200]\n",
    "e=[[1,2,3],[2,3,4,5]]\n",
    "f=[1,2,3]\n",
    "g=[f,f,f,f]\n",
    "h=[2]*10\n",
    "print(b)\n",
    "print(c)\n",
    "print(d)\n",
    "print(e)\n",
    "print(f)\n",
    "print(g)\n",
    "print(h)"
   ]
  },
  {
   "cell_type": "code",
   "execution_count": 3,
   "metadata": {},
   "outputs": [
    {
     "name": "stdout",
     "output_type": "stream",
     "text": [
      "3\n"
     ]
    }
   ],
   "source": [
    "print(b[2]) #indexing #third"
   ]
  },
  {
   "cell_type": "code",
   "execution_count": 4,
   "metadata": {},
   "outputs": [
    {
     "name": "stdout",
     "output_type": "stream",
     "text": [
      "first three [12, 45, 34]\n",
      "Last three [8, 9, 10]\n",
      "all content expect first 2 and last 2 [34, 67, 4, 5, 6, 8]\n",
      "Reverse [10, 9, 8, 6, 5, 4, 67, 34, 45, 12]\n",
      "Even indexed item [12, 34, 4, 6, 9]\n"
     ]
    }
   ],
   "source": [
    "nums=[12,45,34,67,4,5,6,8,9,10]\n",
    "print('first three', nums[:3])\n",
    "print('Last three',nums[-3:])\n",
    "print('all content expect first 2 and last 2',nums[2:-2])\n",
    "print('Reverse',nums[::-1])\n",
    "print('Even indexed item',nums[::2])"
   ]
  },
  {
   "cell_type": "code",
   "execution_count": 5,
   "metadata": {},
   "outputs": [
    {
     "name": "stdout",
     "output_type": "stream",
     "text": [
      "[120, 45, 34, 67, 4, 5, 6, 8, 9, 10]\n",
      "[120, 45, 34, 67, 4, 5, 6, 8, 9, 20]\n"
     ]
    }
   ],
   "source": [
    "nums[0] = 120\n",
    "print(nums)\n",
    "nums[-1] = 20\n",
    "print(nums)"
   ]
  },
  {
   "cell_type": "code",
   "execution_count": 6,
   "metadata": {},
   "outputs": [
    {
     "name": "stdout",
     "output_type": "stream",
     "text": [
      "arun\n",
      "100\n",
      "varun\n",
      "150\n",
      "tarun\n",
      "200\n"
     ]
    }
   ],
   "source": [
    "for i in d:\n",
    "    print(i)"
   ]
  },
  {
   "cell_type": "code",
   "execution_count": 7,
   "metadata": {},
   "outputs": [
    {
     "name": "stdout",
     "output_type": "stream",
     "text": [
      "arun is string\n",
      "100 Is integer\n",
      "varun is string\n",
      "150 Is integer\n",
      "tarun is string\n",
      "200 Is integer\n"
     ]
    }
   ],
   "source": [
    "for i in d:\n",
    "    if isinstance(i, str):\n",
    "        print(i, 'is string')\n",
    "    elif isinstance(i, int):\n",
    "        print(i,'Is integer')\n",
    "    else:\n",
    "        print(i, 'is unknown')"
   ]
  },
  {
   "cell_type": "markdown",
   "metadata": {},
   "source": [
    "List methods\n",
    "- adding\n",
    "  - append()\n",
    "  - insert()\n",
    "  - extend()\n",
    "- remove\n",
    "  - Remove()\n",
    "  - pop()\n",
    "  - clear()\n",
    "- manipulation\n",
    "  - count()\n",
    "  - sort()\n",
    "  - Reverse()\n",
    "  - copy()\n",
    "  - Index()"
   ]
  },
  {
   "cell_type": "code",
   "execution_count": 8,
   "metadata": {},
   "outputs": [
    {
     "name": "stdout",
     "output_type": "stream",
     "text": [
      "['red', 'orange', 'black']\n"
     ]
    }
   ],
   "source": [
    "colors =[]\n",
    "colors.append('red')\n",
    "colors.append('orange')\n",
    "colors.append('black')\n",
    "print(colors)"
   ]
  },
  {
   "cell_type": "code",
   "execution_count": 10,
   "metadata": {},
   "outputs": [],
   "source": [
    "colors.append('Brown')\n",
    "colors.append('blue')\n",
    "colors.append('green')"
   ]
  },
  {
   "cell_type": "code",
   "execution_count": 11,
   "metadata": {},
   "outputs": [
    {
     "data": {
      "text/plain": [
       "['red', 'orange', 'black', 'Brown', 'blue', 'green', 'Brown', 'blue', 'green']"
      ]
     },
     "execution_count": 11,
     "metadata": {},
     "output_type": "execute_result"
    }
   ],
   "source": [
    "colors"
   ]
  },
  {
   "cell_type": "code",
   "execution_count": 12,
   "metadata": {},
   "outputs": [
    {
     "data": {
      "text/plain": [
       "[[1, 2, 3], [2, 3, 4, 5], [1, 3, 4]]"
      ]
     },
     "execution_count": 12,
     "metadata": {},
     "output_type": "execute_result"
    }
   ],
   "source": [
    "e.append([1,3,4])\n",
    "e"
   ]
  },
  {
   "cell_type": "code",
   "execution_count": 13,
   "metadata": {},
   "outputs": [
    {
     "data": {
      "text/plain": [
       "[[1, 2, 3, 5], [2, 3, 4, 5], [1, 3, 4]]"
      ]
     },
     "execution_count": 13,
     "metadata": {},
     "output_type": "execute_result"
    }
   ],
   "source": [
    "e[0].append(5)\n",
    "e"
   ]
  },
  {
   "cell_type": "code",
   "execution_count": 14,
   "metadata": {},
   "outputs": [
    {
     "data": {
      "text/plain": [
       "['red',\n",
       " 'orange',\n",
       " 'green',\n",
       " 'black',\n",
       " 'Brown',\n",
       " 'blue',\n",
       " 'green',\n",
       " 'Brown',\n",
       " 'blue',\n",
       " 'green']"
      ]
     },
     "execution_count": 14,
     "metadata": {},
     "output_type": "execute_result"
    }
   ],
   "source": [
    "colors.insert(2,'green')\n",
    "colors"
   ]
  },
  {
   "cell_type": "code",
   "execution_count": 18,
   "metadata": {},
   "outputs": [
    {
     "data": {
      "text/plain": [
       "['white',\n",
       " 'white',\n",
       " 'white',\n",
       " 'white',\n",
       " 'red',\n",
       " 'orange',\n",
       " 'green',\n",
       " 'black',\n",
       " 'Brown',\n",
       " 'blue',\n",
       " 'green',\n",
       " 'Brown',\n",
       " 'blue',\n",
       " 'green']"
      ]
     },
     "execution_count": 18,
     "metadata": {},
     "output_type": "execute_result"
    }
   ],
   "source": [
    "colors.insert(0,'white')\n",
    "colors"
   ]
  },
  {
   "cell_type": "code",
   "execution_count": 22,
   "metadata": {},
   "outputs": [
    {
     "name": "stdout",
     "output_type": "stream",
     "text": [
      "[1, 2, 3, 4, 5, 5, 6, 2, 3, 5, 6]\n",
      "[1, 2, 3, 4, 5, 5, 6, 2, 3, 5, 6, [2, 3, 5, 6]]\n"
     ]
    }
   ],
   "source": [
    "x = [1,2,3,4,5,5,6]\n",
    "y = [2,3,5,6]\n",
    "x.extend(y)\n",
    "print(x)\n",
    "x.append(y)\n",
    "print(x)"
   ]
  },
  {
   "cell_type": "code",
   "execution_count": 25,
   "metadata": {},
   "outputs": [
    {
     "name": "stdout",
     "output_type": "stream",
     "text": [
      "[1, 2, 3, 4, 5, 5, 6, 2, 3, 5, 6, [2, 3, 5, 6], [2, 3, 5, 6], [2, 3, 5, 6], [2, 3, 5, 6]]\n"
     ]
    }
   ],
   "source": [
    "x.append(y)\n",
    "print(x)"
   ]
  },
  {
   "cell_type": "code",
   "execution_count": 34,
   "metadata": {},
   "outputs": [
    {
     "ename": "ValueError",
     "evalue": "list.remove(x): x not in list",
     "output_type": "error",
     "traceback": [
      "\u001b[1;31m---------------------------------------------------------------------------\u001b[0m",
      "\u001b[1;31mValueError\u001b[0m                                Traceback (most recent call last)",
      "\u001b[1;32mc:\\Users\\Dell\\Desktop\\Python data analytics\\data structures\\list.ipynb Cell 19\u001b[0m line \u001b[0;36m1\n\u001b[1;32m----> <a href='vscode-notebook-cell:/c%3A/Users/Dell/Desktop/Python%20data%20analytics/data%20structures/list.ipynb#X24sZmlsZQ%3D%3D?line=0'>1</a>\u001b[0m colors\u001b[39m.\u001b[39;49mremove(\u001b[39m'\u001b[39;49m\u001b[39mgreen\u001b[39;49m\u001b[39m'\u001b[39;49m)\n\u001b[0;32m      <a href='vscode-notebook-cell:/c%3A/Users/Dell/Desktop/Python%20data%20analytics/data%20structures/list.ipynb#X24sZmlsZQ%3D%3D?line=1'>2</a>\u001b[0m colors\n",
      "\u001b[1;31mValueError\u001b[0m: list.remove(x): x not in list"
     ]
    }
   ],
   "source": [
    "colors.remove('green')\n",
    "colors"
   ]
  },
  {
   "cell_type": "code",
   "execution_count": 36,
   "metadata": {},
   "outputs": [
    {
     "data": {
      "text/plain": [
       "'white'"
      ]
     },
     "execution_count": 36,
     "metadata": {},
     "output_type": "execute_result"
    }
   ],
   "source": [
    "colors.pop(2)"
   ]
  },
  {
   "cell_type": "code",
   "execution_count": 39,
   "metadata": {},
   "outputs": [
    {
     "data": {
      "text/plain": [
       "['white', 'white', 'red', 'orange', 'black', 'Brown', 'blue', 'Brown', 'blue']"
      ]
     },
     "execution_count": 39,
     "metadata": {},
     "output_type": "execute_result"
    }
   ],
   "source": [
    "colors"
   ]
  },
  {
   "cell_type": "code",
   "execution_count": 42,
   "metadata": {},
   "outputs": [
    {
     "data": {
      "text/plain": [
       "'Brown'"
      ]
     },
     "execution_count": 42,
     "metadata": {},
     "output_type": "execute_result"
    }
   ],
   "source": [
    "colors.pop()"
   ]
  },
  {
   "cell_type": "code",
   "execution_count": 43,
   "metadata": {},
   "outputs": [
    {
     "data": {
      "text/plain": [
       "['white', 'white', 'red', 'orange', 'black', 'Brown', 'blue']"
      ]
     },
     "execution_count": 43,
     "metadata": {},
     "output_type": "execute_result"
    }
   ],
   "source": [
    "colors"
   ]
  },
  {
   "cell_type": "code",
   "execution_count": 44,
   "metadata": {},
   "outputs": [
    {
     "name": "stdout",
     "output_type": "stream",
     "text": [
      "1\n",
      "1\n",
      "0\n",
      "3\n"
     ]
    }
   ],
   "source": [
    "x =[1,2,4,4,5,5,5,7,8,6,5,7,7]\n",
    "print(x.count(1))\n",
    "print(x.count(2))\n",
    "print(x.count(3))\n",
    "print(x.count(7))"
   ]
  },
  {
   "cell_type": "code",
   "execution_count": 46,
   "metadata": {},
   "outputs": [
    {
     "name": "stdout",
     "output_type": "stream",
     "text": [
      "[[0, 10], [1, 2], [2, 3], [3, 1]]\n",
      "[[3, 1], [1, 2], [2, 3], [0, 10]]\n"
     ]
    }
   ],
   "source": [
    "a= [[1,2],[2,3],[3,1],[0,10]]\n",
    "a.sort()\n",
    "print(a)\n",
    "a.sort(key=lambda i:i[1])\n",
    "print(a)"
   ]
  },
  {
   "cell_type": "code",
   "execution_count": 4,
   "metadata": {},
   "outputs": [
    {
     "name": "stdout",
     "output_type": "stream",
     "text": [
      "[1, 1, 1, 1, 1, 1, 2, 2, 2, 2, 2, 3, 4]\n",
      "[4, 3, 2, 2, 2, 2, 2, 1, 1, 1, 1, 1, 1]\n"
     ]
    }
   ],
   "source": [
    "x =[1,2,3,4,1,1,1,1,1,2,2,2,2]\n",
    "x.sort()\n",
    "print(x)\n",
    "x.sort(reverse=True)\n",
    "print(x)"
   ]
  },
  {
   "cell_type": "code",
   "execution_count": 9,
   "metadata": {},
   "outputs": [
    {
     "ename": "NameError",
     "evalue": "name 'colors' is not defined",
     "output_type": "error",
     "traceback": [
      "\u001b[1;31m---------------------------------------------------------------------------\u001b[0m",
      "\u001b[1;31mNameError\u001b[0m                                 Traceback (most recent call last)",
      "\u001b[1;32mc:\\Users\\Dell\\Desktop\\Python data analytics\\data structures\\list.ipynb Cell 27\u001b[0m line \u001b[0;36m1\n\u001b[1;32m----> <a href='vscode-notebook-cell:/c%3A/Users/Dell/Desktop/Python%20data%20analytics/data%20structures/list.ipynb#X35sZmlsZQ%3D%3D?line=0'>1</a>\u001b[0m colors\u001b[39m.\u001b[39mindex(\u001b[39m'\u001b[39m\u001b[39mred\u001b[39m\u001b[39m'\u001b[39m)\n",
      "\u001b[1;31mNameError\u001b[0m: name 'colors' is not defined"
     ]
    }
   ],
   "source": [
    "colors.index('red')"
   ]
  },
  {
   "cell_type": "code",
   "execution_count": null,
   "metadata": {},
   "outputs": [],
   "source": []
  }
 ],
 "metadata": {
  "kernelspec": {
   "display_name": "Python 3",
   "language": "python",
   "name": "python3"
  },
  "language_info": {
   "codemirror_mode": {
    "name": "ipython",
    "version": 3
   },
   "file_extension": ".py",
   "mimetype": "text/x-python",
   "name": "python",
   "nbconvert_exporter": "python",
   "pygments_lexer": "ipython3",
   "version": "3.11.5"
  }
 },
 "nbformat": 4,
 "nbformat_minor": 2
}
